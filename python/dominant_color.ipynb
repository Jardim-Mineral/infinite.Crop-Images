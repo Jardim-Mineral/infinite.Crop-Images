{
 "cells": [
  {
   "cell_type": "code",
   "execution_count": null,
   "metadata": {},
   "outputs": [],
   "source": [
    "import cv2\n",
    "import numpy as np\n",
    "from matplotlib import pyplot as plt\n",
    "\n",
    "from os import listdir\n",
    "from os.path import join, isfile\n",
    "from queue import Queue\n",
    "from threading import Thread, Lock\n",
    "from time import time\n",
    "from colorsys import rgb_to_hls\n",
    "\n",
    "from random import randrange\n",
    "\n",
    "IMAGES_DIR = join('..', 'imgs')\n",
    "\n",
    "INPUT_DIR = join(IMAGES_DIR, '04.Sized')\n",
    "OUTPUT_FILE = 'MUMI-organized.json'\n",
    "\n",
    "CV_KMEANS_CRITERIA = (cv2.TERM_CRITERIA_EPS + cv2.TERM_CRITERIA_MAX_ITER, 100, 0.2)\n",
    "CV_KMEANS_K = 8\n",
    "\n",
    "input_files = sorted([f for f in listdir(INPUT_DIR) if f.lower().startswith(\"mumi\") and f.lower().endswith(\".jpg\")])\n"
   ]
  },
  {
   "cell_type": "code",
   "execution_count": null,
   "metadata": {},
   "outputs": [],
   "source": [
    "# file_path = join(INPUT_DIR, 'MUMI-353-Berilo-Goshenita.jpg')\n",
    "# file_path = join(INPUT_DIR, 'MUMI-462-Elbaíta, var.Indicolita.jpg')\n",
    "# file_path = join(INPUT_DIR, 'MUMI-373-Esmeralda.jpg')\n",
    "# file_path = join(INPUT_DIR, 'MUMI-789-2-Quartzo fumê catedral.jpg')\n",
    "file_path = join(INPUT_DIR, input_files[randrange(len(input_files))])\n",
    "\n",
    "image = cv2.imread(file_path)\n",
    "image = cv2.resize(image, (0,0), fx=0.25, fy=0.25)\n",
    "image = cv2.cvtColor(image, cv2.COLOR_BGR2RGB)\n"
   ]
  },
  {
   "cell_type": "code",
   "execution_count": null,
   "metadata": {},
   "outputs": [],
   "source": [
    "pixel_values = np.float32(image.reshape((-1, 3)))\n",
    "_, labels, centers = cv2.kmeans(pixel_values, CV_KMEANS_K, None, CV_KMEANS_CRITERIA, 10, cv2.KMEANS_RANDOM_CENTERS)\n",
    "centers = np.uint8(centers)\n",
    "_, counts = np.unique(labels, return_counts=True)\n",
    "dominant = centers[np.argmax(counts)]\n"
   ]
  },
  {
   "cell_type": "code",
   "execution_count": null,
   "metadata": {},
   "outputs": [],
   "source": [
    "def tohsl(row):\n",
    "    return list(rgb_to_hls(*row))\n",
    "\n",
    "centers_hsl = np.apply_along_axis(tohsl, 1, centers / [255, 255, 255])\n"
   ]
  },
  {
   "cell_type": "code",
   "execution_count": null,
   "metadata": {},
   "outputs": [],
   "source": [
    "high_by_col = np.argmax(centers_hsl, axis=0)"
   ]
  },
  {
   "cell_type": "code",
   "execution_count": null,
   "metadata": {},
   "outputs": [],
   "source": [
    "high_colors = centers[high_by_col]\n"
   ]
  },
  {
   "cell_type": "code",
   "execution_count": null,
   "metadata": {},
   "outputs": [],
   "source": [
    "segmented_image = centers[labels.flatten()]\n",
    "segmented_image = segmented_image.reshape(image.shape)"
   ]
  },
  {
   "cell_type": "code",
   "execution_count": null,
   "metadata": {},
   "outputs": [],
   "source": [
    "dominant_color_image = np.full(shape=labels.flatten().shape, fill_value=np.argmax(counts))\n",
    "\n",
    "dominant_color_image = centers[dominant_color_image]\n",
    "dominant_color_image = dominant_color_image.reshape(image.shape)\n"
   ]
  },
  {
   "cell_type": "code",
   "execution_count": null,
   "metadata": {},
   "outputs": [],
   "source": [
    "dominant_hue_image = np.full(shape=labels.flatten().shape, fill_value=high_by_col[0])\n",
    "\n",
    "dominant_hue_image = centers[dominant_hue_image]\n",
    "dominant_hue_image = dominant_hue_image.reshape(image.shape)\n"
   ]
  },
  {
   "cell_type": "code",
   "execution_count": null,
   "metadata": {},
   "outputs": [],
   "source": [
    "dominant_light_image = np.full(shape=labels.flatten().shape, fill_value=high_by_col[1])\n",
    "\n",
    "dominant_light_image = centers[dominant_light_image]\n",
    "dominant_light_image = dominant_light_image.reshape(image.shape)\n"
   ]
  },
  {
   "cell_type": "code",
   "execution_count": null,
   "metadata": {},
   "outputs": [],
   "source": [
    "dominant_saturation_image = np.full(shape=labels.flatten().shape, fill_value=high_by_col[2])\n",
    "\n",
    "dominant_saturation_image = centers[dominant_saturation_image]\n",
    "dominant_saturation_image = dominant_saturation_image.reshape(image.shape)\n"
   ]
  },
  {
   "cell_type": "code",
   "execution_count": null,
   "metadata": {},
   "outputs": [],
   "source": [
    "plt.imshow(image)\n",
    "plt.title('original')\n",
    "plt.show()\n",
    "\n",
    "plt.imshow(segmented_image)\n",
    "plt.title('%i colors' % CV_KMEANS_K)\n",
    "plt.show()\n",
    "\n",
    "plt.imshow(dominant_color_image)\n",
    "plt.title('dominant')\n",
    "plt.show()\n",
    "\n",
    "plt.imshow(dominant_hue_image)\n",
    "plt.title('highest hue')\n",
    "plt.show()\n",
    "\n",
    "plt.imshow(dominant_light_image)\n",
    "plt.title('highest lightness')\n",
    "plt.show()\n",
    "\n",
    "plt.imshow(dominant_saturation_image)\n",
    "plt.title('highest saturation')\n",
    "plt.show()\n"
   ]
  }
 ],
 "metadata": {
  "interpreter": {
   "hash": "255dcd3c1111989b697057d38781e2dfdca522327561bde91b1730ac9eb70078"
  },
  "kernelspec": {
   "display_name": "Python 3.8.12 64-bit ('infinite-crop': conda)",
   "name": "python3"
  },
  "language_info": {
   "codemirror_mode": {
    "name": "ipython",
    "version": 3
   },
   "file_extension": ".py",
   "mimetype": "text/x-python",
   "name": "python",
   "nbconvert_exporter": "python",
   "pygments_lexer": "ipython3",
   "version": "3.8.12"
  },
  "orig_nbformat": 4
 },
 "nbformat": 4,
 "nbformat_minor": 2
}
