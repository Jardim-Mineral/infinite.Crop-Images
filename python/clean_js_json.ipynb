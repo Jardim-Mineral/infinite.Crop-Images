{
 "cells": [
  {
   "cell_type": "code",
   "execution_count": null,
   "metadata": {},
   "outputs": [],
   "source": [
    "from os.path import join, isfile\n",
    "from re import match\n",
    "from shutil import copy2\n",
    "from time import time\n",
    "import json\n",
    "from unicodedata import normalize\n",
    "\n",
    "\n",
    "IMAGES_DIR = join('..', 'imgs')\n",
    "\n",
    "INPUT_DIR_IMAGES = join(IMAGES_DIR, '04.Sized')\n",
    "INPUT_DIR_JSON = join(IMAGES_DIR, '06.Ordered')\n",
    "OUTPUT_DIR = join(IMAGES_DIR, '07.Web')\n",
    "\n",
    "start_s = time()\n",
    "\n",
    "old_to_new = {}\n",
    "\n",
    "for order in ['rgb', 'hls']:\n",
    "    input_file = join(INPUT_DIR_JSON, 'by_%s.json' % order)\n",
    "\n",
    "    with open(input_file) as json_file:\n",
    "        image_names = json.load(json_file)\n",
    "\n",
    "    image_names_clean = []\n",
    "    repeat_counter = 0\n",
    "\n",
    "    for image_name in image_names:\n",
    "        if (image_name in old_to_new):\n",
    "            image_name_new = old_to_new[image_name]\n",
    "        else:\n",
    "            image_name_parse = match(r'(MUMI-[0-9]+(-[0-9])*)([\\w -].*)', image_name.replace('.-', '-'))\n",
    "            image_name_new = image_name_parse.groups()[0]\n",
    "\n",
    "        if (image_name_new in image_names_clean):\n",
    "            image_name_new = \"%s-%s%s%s\" % (image_name_new, repeat_counter, repeat_counter, repeat_counter)\n",
    "            repeat_counter += 1\n",
    "            # print(\"%s --> %s\" % (image_name, image_name_new))\n",
    "\n",
    "        image_names_clean.append(image_name_new)\n",
    "        old_to_new[image_name] = image_name_new\n",
    "\n",
    "        in_file = join(INPUT_DIR_IMAGES, '%s.jpg' % image_name)\n",
    "        out_file = join(OUTPUT_DIR, '%s.jpg' % image_name_new)\n",
    "\n",
    "        if not isfile(out_file):\n",
    "            copy2(in_file, out_file)\n",
    "\n",
    "    output_file = join(OUTPUT_DIR, 'by_%s.json' % order)\n",
    "    with open(output_file, 'w', encoding='utf8') as json_file:\n",
    "        json_file.write(normalize('NFC', json.dumps(image_names_clean, ensure_ascii=False)))\n",
    "\n",
    "\n",
    "print(\"total time: %i seconds\" % (time() - start_s))\n"
   ]
  },
  {
   "cell_type": "code",
   "execution_count": null,
   "metadata": {},
   "outputs": [],
   "source": [
    "for order in ['rgb', 'hls']:\n",
    "    input_file = join(OUTPUT_DIR, 'by_%s.json' % order)\n",
    "    cnt = 0\n",
    "\n",
    "    with open(input_file) as json_file:\n",
    "        image_names = json.load(json_file)\n",
    "    \n",
    "    for image_name in image_names:\n",
    "        new_file = join(OUTPUT_DIR, '%s.jpg' % image_name)\n",
    "\n",
    "        if not isfile(new_file):\n",
    "            print(\"oooops: %s not found\" % new_file)\n",
    "        else:\n",
    "            cnt += 1\n",
    "    print(\"found %i files\" % cnt)\n"
   ]
  },
  {
   "cell_type": "code",
   "execution_count": null,
   "metadata": {},
   "outputs": [],
   "source": []
  }
 ],
 "metadata": {
  "interpreter": {
   "hash": "255dcd3c1111989b697057d38781e2dfdca522327561bde91b1730ac9eb70078"
  },
  "kernelspec": {
   "display_name": "Python 3.8.12 64-bit ('infinite-crop': conda)",
   "name": "python3"
  },
  "language_info": {
   "codemirror_mode": {
    "name": "ipython",
    "version": 3
   },
   "file_extension": ".py",
   "mimetype": "text/x-python",
   "name": "python",
   "nbconvert_exporter": "python",
   "pygments_lexer": "ipython3",
   "version": "3.8.12"
  },
  "orig_nbformat": 4
 },
 "nbformat": 4,
 "nbformat_minor": 2
}
