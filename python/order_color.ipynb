{
 "cells": [
  {
   "cell_type": "code",
   "execution_count": 48,
   "metadata": {},
   "outputs": [],
   "source": [
    "from os.path import join, isfile\n",
    "from operator import itemgetter\n",
    "import json\n",
    "from unicodedata import normalize\n",
    "from hilbertcurve.hilbertcurve import HilbertCurve\n",
    "\n",
    "HC_ITERS = 8\n",
    "HC_DIMS = 3\n",
    "\n",
    "IMAGES_DIR = join('..', 'imgs')\n",
    "\n",
    "INPUT_DIR = join(IMAGES_DIR, '05.Analyzed')\n",
    "OUTPUT_DIR = join(IMAGES_DIR, '06.Ordered')\n",
    "\n",
    "INPUT_FILENAME = 'MUMI-analysis.json'\n",
    "\n",
    "input_file = join(INPUT_DIR, INPUT_FILENAME)\n",
    "\n",
    "color_curve = HilbertCurve(HC_ITERS, HC_DIMS)"
   ]
  },
  {
   "cell_type": "code",
   "execution_count": 49,
   "metadata": {},
   "outputs": [],
   "source": [
    "with open(input_file) as json_file:\n",
    "    analysis = json.load(json_file)"
   ]
  },
  {
   "cell_type": "code",
   "execution_count": 50,
   "metadata": {},
   "outputs": [],
   "source": [
    "image_names = sorted(list(analysis.keys()))"
   ]
  },
  {
   "cell_type": "code",
   "execution_count": 51,
   "metadata": {},
   "outputs": [],
   "source": [
    "rgb = [analysis[x]['rgb'] for x in image_names]"
   ]
  },
  {
   "cell_type": "code",
   "execution_count": 72,
   "metadata": {},
   "outputs": [],
   "source": [
    "hls = [analysis[x]['hls'] for x in image_names]\n",
    "hls_i = [[int(round(i * 255)) for i in analysis[x]['hls']] for x in image_names]"
   ]
  },
  {
   "cell_type": "code",
   "execution_count": 73,
   "metadata": {},
   "outputs": [],
   "source": [
    "rgb_one_dim = color_curve.distances_from_points(rgb)"
   ]
  },
  {
   "cell_type": "code",
   "execution_count": 74,
   "metadata": {},
   "outputs": [],
   "source": [
    "hls_one_dim = color_curve.distances_from_points(hls_i)\n"
   ]
  },
  {
   "cell_type": "code",
   "execution_count": 75,
   "metadata": {},
   "outputs": [],
   "source": [
    "by_rgb = list(zip(image_names, rgb_one_dim))\n",
    "by_hls = list(zip(image_names, hls_one_dim))"
   ]
  },
  {
   "cell_type": "code",
   "execution_count": 76,
   "metadata": {},
   "outputs": [],
   "source": [
    "by_rgb.sort(key=itemgetter(1))"
   ]
  },
  {
   "cell_type": "code",
   "execution_count": 77,
   "metadata": {},
   "outputs": [],
   "source": [
    "by_hls.sort(key=itemgetter(1))"
   ]
  },
  {
   "cell_type": "code",
   "execution_count": 78,
   "metadata": {},
   "outputs": [],
   "source": [
    "image_names_by_rgb = [x[0] for x in by_rgb]"
   ]
  },
  {
   "cell_type": "code",
   "execution_count": 79,
   "metadata": {},
   "outputs": [],
   "source": [
    "image_names_by_hls = [x[0] for x in by_hls]"
   ]
  },
  {
   "cell_type": "code",
   "execution_count": 60,
   "metadata": {},
   "outputs": [],
   "source": [
    "rgb_output_file = join(OUTPUT_DIR, 'by_rgb.json')\n",
    "with open(rgb_output_file, 'w', encoding='utf8') as json_file:\n",
    "    json_file.write(normalize('NFC', json.dumps(image_names_by_rgb, ensure_ascii=False)))\n"
   ]
  },
  {
   "cell_type": "code",
   "execution_count": 61,
   "metadata": {},
   "outputs": [],
   "source": [
    "hls_output_file = join(OUTPUT_DIR, 'by_hls.json')\n",
    "with open(hls_output_file, 'w', encoding='utf8') as json_file:\n",
    "    json_file.write(normalize('NFC', json.dumps(image_names_by_hls, ensure_ascii=False)))\n"
   ]
  },
  {
   "cell_type": "code",
   "execution_count": null,
   "metadata": {},
   "outputs": [],
   "source": [
    "%matplotlib widget\n",
    "from matplotlib import pyplot as plt\n",
    "import numpy as np\n",
    "\n",
    "from mpl_toolkits.mplot3d import Axes3D\n",
    "\n",
    "fig = plt.figure()\n",
    "ax = fig.add_subplot(111, projection='3d')\n",
    "\n",
    "r, g, b = zip(*rgb)\n",
    "\n",
    "ax.set_xlabel('R')\n",
    "ax.set_ylabel('G')\n",
    "ax.set_zlabel('B')\n",
    "colors = [(r/255, g/255, b/255) for r,g,b in rgb]\n",
    "ax.scatter(r, g, b, color=colors)\n"
   ]
  },
  {
   "cell_type": "code",
   "execution_count": null,
   "metadata": {},
   "outputs": [],
   "source": [
    "from colorsys import hls_to_rgb\n",
    "fig = plt.figure()\n",
    "ax = fig.add_subplot(111, projection='3d')\n",
    "\n",
    "h, l, s = zip(*hls)\n",
    "\n",
    "ax.set_xlabel('H')\n",
    "ax.set_ylabel('L')\n",
    "ax.set_zlabel('S')\n",
    "\n",
    "colors = [hls_to_rgb(h, l, s) for h,l,s in hls]\n",
    "ax.scatter(h, l, s, color=colors)\n"
   ]
  }
 ],
 "metadata": {
  "interpreter": {
   "hash": "255dcd3c1111989b697057d38781e2dfdca522327561bde91b1730ac9eb70078"
  },
  "kernelspec": {
   "display_name": "Python 3.8.12 64-bit ('infinite-crop': conda)",
   "name": "python3"
  },
  "language_info": {
   "codemirror_mode": {
    "name": "ipython",
    "version": 3
   },
   "file_extension": ".py",
   "mimetype": "text/x-python",
   "name": "python",
   "nbconvert_exporter": "python",
   "pygments_lexer": "ipython3",
   "version": "3.8.12"
  },
  "orig_nbformat": 4
 },
 "nbformat": 4,
 "nbformat_minor": 2
}
